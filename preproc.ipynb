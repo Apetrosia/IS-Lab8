{
 "cells": [
  {
   "cell_type": "code",
   "execution_count": 1,
   "metadata": {},
   "outputs": [],
   "source": [
    "from PIL import Image\n",
    "import os"
   ]
  },
  {
   "cell_type": "code",
   "execution_count": 2,
   "metadata": {},
   "outputs": [],
   "source": [
    "# Папка с исходными изображениями\n",
    "input_folder = \"input_images\"\n",
    "output_folder = \"output_images\""
   ]
  },
  {
   "cell_type": "code",
   "execution_count": 3,
   "metadata": {},
   "outputs": [],
   "source": [
    "# Порог для перевода в ЧБ\n",
    "threshold = 110"
   ]
  },
  {
   "cell_type": "code",
   "execution_count": 25,
   "metadata": {},
   "outputs": [],
   "source": [
    "# Функция обработки изображений\n",
    "def process_image(filename):\n",
    "    \"\"\"\n",
    "    Считывает квадратное изображение, сжимает до 200x200 и переводит в ЧБ.\n",
    "\n",
    "    :param filename: Имя файла изображения.\n",
    "    \"\"\"\n",
    "    file_path = os.path.join(input_folder, filename)\n",
    "    try:\n",
    "        with Image.open(file_path) as img:\n",
    "\n",
    "            # Перевод в ЧБ по порогу\n",
    "            img_bw = img.convert(\"L\").point(lambda p: 255 if p > threshold else 0, mode='1')\n",
    "\n",
    "            for angle in [0, 45, 90, 135, 180, 225, 270, 315]:\n",
    "                rotated_img = img_bw.rotate(angle, expand=True, fillcolor=(255,))\n",
    "                if angle % 90 != 0:\n",
    "                    a = 250\n",
    "                    rotated_img = rotated_img.crop((a, a, rotated_img.size[0] - a, rotated_img.size[1] - a))\n",
    "                # Создание изображений со смещениями по x и y\n",
    "                for dx in range(-90, 91, 90):\n",
    "                    for dy in range(-90, 91, 90):\n",
    "                        \n",
    "                        # Добавляем отступы для смещения\n",
    "                        shifted_img = Image.new(\"1\", (rotated_img.width + abs(dx), rotated_img.height + abs(dy)), 255)\n",
    "                        shifted_img.paste(rotated_img, (max(0, dx), max(0, dy)))\n",
    "\n",
    "                        # Обрезаем изображение до исходных размеров\n",
    "                        cropped_img = shifted_img.crop((\n",
    "                            max(0, -dx),\n",
    "                            max(0, -dy),\n",
    "                            rotated_img.width - max(0, dx),\n",
    "                            rotated_img.height - max(0, dy)\n",
    "                        ))\n",
    "\n",
    "                        # Изменение размера до 200x200\n",
    "                        final_img = cropped_img.resize((200, 200))\n",
    "\n",
    "                        # Сохранение результата\n",
    "                        base_name, ext = os.path.splitext(filename)\n",
    "                        output_path = os.path.join(\n",
    "                            output_folder, f\"{base_name}_angle_{angle}_dx_{dx}_dy_{dy}.png\"\n",
    "                        )\n",
    "                        final_img.save(output_path)\n",
    "            print(f\"Обработано: {file_path}\")\n",
    "    except Exception as e:\n",
    "        print(f\"Ошибка обработки файла {filename}: {e}\")"
   ]
  },
  {
   "cell_type": "code",
   "execution_count": 26,
   "metadata": {},
   "outputs": [
    {
     "name": "stdout",
     "output_type": "stream",
     "text": [
      "Обработано: input_images\\citroen0.jpg\n",
      "Обработано: input_images\\citroen1.jpg\n",
      "Обработано: input_images\\citroen2.jpg\n",
      "Обработано: input_images\\citroen3.jpg\n",
      "Обработано: input_images\\citroen4.jpg\n",
      "Обработано: input_images\\citroen5.jpg\n",
      "Обработано: input_images\\citroen6.jpg\n",
      "Обработано: input_images\\citroen7.jpg\n",
      "Обработано: input_images\\citroen8.jpg\n",
      "Обработано: input_images\\citroen9.jpg\n",
      "Обработано: input_images\\ford0.jpg\n",
      "Обработано: input_images\\ford1.jpg\n",
      "Обработано: input_images\\ford2.jpg\n",
      "Обработано: input_images\\ford3.jpg\n",
      "Обработано: input_images\\ford4.jpg\n",
      "Обработано: input_images\\ford5.jpg\n",
      "Обработано: input_images\\ford6.jpg\n",
      "Обработано: input_images\\ford7.jpg\n",
      "Обработано: input_images\\ford8.jpg\n",
      "Обработано: input_images\\ford9.jpg\n",
      "Обработано: input_images\\hyundai0.jpg\n",
      "Обработано: input_images\\hyundai1.jpg\n",
      "Обработано: input_images\\hyundai2.jpg\n",
      "Обработано: input_images\\hyundai3.jpg\n",
      "Обработано: input_images\\hyundai4.jpg\n",
      "Обработано: input_images\\hyundai5.jpg\n",
      "Обработано: input_images\\hyundai6.jpg\n",
      "Обработано: input_images\\hyundai7.jpg\n",
      "Обработано: input_images\\hyundai8.jpg\n",
      "Обработано: input_images\\hyundai9.jpg\n",
      "Обработано: input_images\\infiniti0.jpg\n",
      "Обработано: input_images\\infiniti1.jpg\n",
      "Обработано: input_images\\infiniti2.jpg\n",
      "Обработано: input_images\\infiniti3.jpg\n",
      "Обработано: input_images\\infiniti4.jpg\n",
      "Обработано: input_images\\infiniti5.jpg\n",
      "Обработано: input_images\\infiniti6.jpg\n",
      "Обработано: input_images\\infiniti7.jpg\n",
      "Обработано: input_images\\infiniti8.jpg\n",
      "Обработано: input_images\\infiniti9.jpg\n",
      "Обработано: input_images\\mercedes0.jpg\n",
      "Обработано: input_images\\mercedes1.jpg\n",
      "Обработано: input_images\\mercedes2.jpg\n",
      "Обработано: input_images\\mercedes3.jpg\n",
      "Обработано: input_images\\mercedes4.jpg\n",
      "Обработано: input_images\\mercedes5.jpg\n",
      "Обработано: input_images\\mercedes6.jpg\n",
      "Обработано: input_images\\mercedes7.jpg\n",
      "Обработано: input_images\\mercedes8.jpg\n"
     ]
    },
    {
     "ename": "KeyboardInterrupt",
     "evalue": "",
     "output_type": "error",
     "traceback": [
      "\u001b[1;31m---------------------------------------------------------------------------\u001b[0m",
      "\u001b[1;31mKeyboardInterrupt\u001b[0m                         Traceback (most recent call last)",
      "Cell \u001b[1;32mIn[26], line 4\u001b[0m\n\u001b[0;32m      2\u001b[0m \u001b[38;5;28;01mfor\u001b[39;00m filename \u001b[38;5;129;01min\u001b[39;00m os\u001b[38;5;241m.\u001b[39mlistdir(input_folder):\n\u001b[0;32m      3\u001b[0m     \u001b[38;5;28;01mif\u001b[39;00m filename\u001b[38;5;241m.\u001b[39mlower()\u001b[38;5;241m.\u001b[39mendswith((\u001b[38;5;124m'\u001b[39m\u001b[38;5;124mpng\u001b[39m\u001b[38;5;124m'\u001b[39m, \u001b[38;5;124m'\u001b[39m\u001b[38;5;124mjpg\u001b[39m\u001b[38;5;124m'\u001b[39m, \u001b[38;5;124m'\u001b[39m\u001b[38;5;124mjpeg\u001b[39m\u001b[38;5;124m'\u001b[39m, \u001b[38;5;124m'\u001b[39m\u001b[38;5;124mbmp\u001b[39m\u001b[38;5;124m'\u001b[39m, \u001b[38;5;124m'\u001b[39m\u001b[38;5;124mgif\u001b[39m\u001b[38;5;124m'\u001b[39m)):\n\u001b[1;32m----> 4\u001b[0m         \u001b[43mprocess_image\u001b[49m\u001b[43m(\u001b[49m\u001b[43mfilename\u001b[49m\u001b[43m)\u001b[49m\n",
      "Cell \u001b[1;32mIn[25], line 29\u001b[0m, in \u001b[0;36mprocess_image\u001b[1;34m(filename)\u001b[0m\n\u001b[0;32m     26\u001b[0m shifted_img\u001b[38;5;241m.\u001b[39mpaste(rotated_img, (\u001b[38;5;28mmax\u001b[39m(\u001b[38;5;241m0\u001b[39m, dx), \u001b[38;5;28mmax\u001b[39m(\u001b[38;5;241m0\u001b[39m, dy)))\n\u001b[0;32m     28\u001b[0m \u001b[38;5;66;03m# Обрезаем изображение до исходных размеров\u001b[39;00m\n\u001b[1;32m---> 29\u001b[0m cropped_img \u001b[38;5;241m=\u001b[39m \u001b[43mshifted_img\u001b[49m\u001b[38;5;241;43m.\u001b[39;49m\u001b[43mcrop\u001b[49m\u001b[43m(\u001b[49m\u001b[43m(\u001b[49m\n\u001b[0;32m     30\u001b[0m \u001b[43m    \u001b[49m\u001b[38;5;28;43mmax\u001b[39;49m\u001b[43m(\u001b[49m\u001b[38;5;241;43m0\u001b[39;49m\u001b[43m,\u001b[49m\u001b[43m \u001b[49m\u001b[38;5;241;43m-\u001b[39;49m\u001b[43mdx\u001b[49m\u001b[43m)\u001b[49m\u001b[43m,\u001b[49m\n\u001b[0;32m     31\u001b[0m \u001b[43m    \u001b[49m\u001b[38;5;28;43mmax\u001b[39;49m\u001b[43m(\u001b[49m\u001b[38;5;241;43m0\u001b[39;49m\u001b[43m,\u001b[49m\u001b[43m \u001b[49m\u001b[38;5;241;43m-\u001b[39;49m\u001b[43mdy\u001b[49m\u001b[43m)\u001b[49m\u001b[43m,\u001b[49m\n\u001b[0;32m     32\u001b[0m \u001b[43m    \u001b[49m\u001b[43mrotated_img\u001b[49m\u001b[38;5;241;43m.\u001b[39;49m\u001b[43mwidth\u001b[49m\u001b[43m \u001b[49m\u001b[38;5;241;43m-\u001b[39;49m\u001b[43m \u001b[49m\u001b[38;5;28;43mmax\u001b[39;49m\u001b[43m(\u001b[49m\u001b[38;5;241;43m0\u001b[39;49m\u001b[43m,\u001b[49m\u001b[43m \u001b[49m\u001b[43mdx\u001b[49m\u001b[43m)\u001b[49m\u001b[43m,\u001b[49m\n\u001b[0;32m     33\u001b[0m \u001b[43m    \u001b[49m\u001b[43mrotated_img\u001b[49m\u001b[38;5;241;43m.\u001b[39;49m\u001b[43mheight\u001b[49m\u001b[43m \u001b[49m\u001b[38;5;241;43m-\u001b[39;49m\u001b[43m \u001b[49m\u001b[38;5;28;43mmax\u001b[39;49m\u001b[43m(\u001b[49m\u001b[38;5;241;43m0\u001b[39;49m\u001b[43m,\u001b[49m\u001b[43m \u001b[49m\u001b[43mdy\u001b[49m\u001b[43m)\u001b[49m\n\u001b[0;32m     34\u001b[0m \u001b[43m\u001b[49m\u001b[43m)\u001b[49m\u001b[43m)\u001b[49m\n\u001b[0;32m     36\u001b[0m \u001b[38;5;66;03m# Изменение размера до 200x200\u001b[39;00m\n\u001b[0;32m     37\u001b[0m final_img \u001b[38;5;241m=\u001b[39m cropped_img\u001b[38;5;241m.\u001b[39mresize((\u001b[38;5;241m200\u001b[39m, \u001b[38;5;241m200\u001b[39m))\n",
      "File \u001b[1;32mc:\\Users\\Apetrosia\\AppData\\Local\\Programs\\Python\\Python310\\lib\\site-packages\\PIL\\Image.py:1220\u001b[0m, in \u001b[0;36mImage.crop\u001b[1;34m(self, box)\u001b[0m\n\u001b[0;32m   1217\u001b[0m     \u001b[38;5;28;01mraise\u001b[39;00m \u001b[38;5;167;01mValueError\u001b[39;00m(msg)\n\u001b[0;32m   1219\u001b[0m \u001b[38;5;28mself\u001b[39m\u001b[38;5;241m.\u001b[39mload()\n\u001b[1;32m-> 1220\u001b[0m \u001b[38;5;28;01mreturn\u001b[39;00m \u001b[38;5;28mself\u001b[39m\u001b[38;5;241m.\u001b[39m_new(\u001b[38;5;28;43mself\u001b[39;49m\u001b[38;5;241;43m.\u001b[39;49m\u001b[43m_crop\u001b[49m\u001b[43m(\u001b[49m\u001b[38;5;28;43mself\u001b[39;49m\u001b[38;5;241;43m.\u001b[39;49m\u001b[43mim\u001b[49m\u001b[43m,\u001b[49m\u001b[43m \u001b[49m\u001b[43mbox\u001b[49m\u001b[43m)\u001b[49m)\n",
      "File \u001b[1;32mc:\\Users\\Apetrosia\\AppData\\Local\\Programs\\Python\\Python310\\lib\\site-packages\\PIL\\Image.py:1240\u001b[0m, in \u001b[0;36mImage._crop\u001b[1;34m(self, im, box)\u001b[0m\n\u001b[0;32m   1236\u001b[0m absolute_values \u001b[38;5;241m=\u001b[39m (\u001b[38;5;28mabs\u001b[39m(x1 \u001b[38;5;241m-\u001b[39m x0), \u001b[38;5;28mabs\u001b[39m(y1 \u001b[38;5;241m-\u001b[39m y0))\n\u001b[0;32m   1238\u001b[0m _decompression_bomb_check(absolute_values)\n\u001b[1;32m-> 1240\u001b[0m \u001b[38;5;28;01mreturn\u001b[39;00m \u001b[43mim\u001b[49m\u001b[38;5;241;43m.\u001b[39;49m\u001b[43mcrop\u001b[49m\u001b[43m(\u001b[49m\u001b[43m(\u001b[49m\u001b[43mx0\u001b[49m\u001b[43m,\u001b[49m\u001b[43m \u001b[49m\u001b[43my0\u001b[49m\u001b[43m,\u001b[49m\u001b[43m \u001b[49m\u001b[43mx1\u001b[49m\u001b[43m,\u001b[49m\u001b[43m \u001b[49m\u001b[43my1\u001b[49m\u001b[43m)\u001b[49m\u001b[43m)\u001b[49m\n",
      "\u001b[1;31mKeyboardInterrupt\u001b[0m: "
     ]
    }
   ],
   "source": [
    "# Обработка всех изображений в папке\n",
    "for filename in os.listdir(input_folder):\n",
    "    if filename.lower().endswith(('png', 'jpg', 'jpeg', 'bmp', 'gif')):\n",
    "        process_image(filename)\n"
   ]
  }
 ],
 "metadata": {
  "kernelspec": {
   "display_name": "Python 3",
   "language": "python",
   "name": "python3"
  },
  "language_info": {
   "codemirror_mode": {
    "name": "ipython",
    "version": 3
   },
   "file_extension": ".py",
   "mimetype": "text/x-python",
   "name": "python",
   "nbconvert_exporter": "python",
   "pygments_lexer": "ipython3",
   "version": "3.10.0"
  }
 },
 "nbformat": 4,
 "nbformat_minor": 2
}
